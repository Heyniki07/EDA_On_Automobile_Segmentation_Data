{
 "cells": [
  {
   "cell_type": "code",
   "execution_count": 37,
   "id": "d9b2fb45-6b85-48bb-afca-476d7dcd4ec4",
   "metadata": {},
   "outputs": [],
   "source": [
    "import pandas as pd\n",
    "import numpy as np\n",
    "import seaborn as sns\n",
    "import matplotlib.pyplot as plt\n"
   ]
  },
  {
   "cell_type": "code",
   "execution_count": 38,
   "id": "92bec583-4bb1-406a-b3f5-cc07101b875f",
   "metadata": {},
   "outputs": [
    {
     "data": {
      "text/html": [
       "<div>\n",
       "<style scoped>\n",
       "    .dataframe tbody tr th:only-of-type {\n",
       "        vertical-align: middle;\n",
       "    }\n",
       "\n",
       "    .dataframe tbody tr th {\n",
       "        vertical-align: top;\n",
       "    }\n",
       "\n",
       "    .dataframe thead th {\n",
       "        text-align: right;\n",
       "    }\n",
       "</style>\n",
       "<table border=\"1\" class=\"dataframe\">\n",
       "  <thead>\n",
       "    <tr style=\"text-align: right;\">\n",
       "      <th></th>\n",
       "      <th>Unnamed: 0</th>\n",
       "      <th>ID</th>\n",
       "      <th>Gender</th>\n",
       "      <th>Ever_Married</th>\n",
       "      <th>Age</th>\n",
       "      <th>Graduated</th>\n",
       "      <th>Profession</th>\n",
       "      <th>Work_Experience</th>\n",
       "      <th>Spending_Score</th>\n",
       "      <th>Family_Size</th>\n",
       "      <th>Var_1</th>\n",
       "      <th>Segmentation</th>\n",
       "    </tr>\n",
       "  </thead>\n",
       "  <tbody>\n",
       "    <tr>\n",
       "      <th>0</th>\n",
       "      <td>0</td>\n",
       "      <td>460394</td>\n",
       "      <td>Female</td>\n",
       "      <td>No</td>\n",
       "      <td>32</td>\n",
       "      <td>Yes</td>\n",
       "      <td>Healthcare</td>\n",
       "      <td>9.0</td>\n",
       "      <td>Low</td>\n",
       "      <td>3.0</td>\n",
       "      <td>Cat_6</td>\n",
       "      <td>D</td>\n",
       "    </tr>\n",
       "    <tr>\n",
       "      <th>1</th>\n",
       "      <td>1</td>\n",
       "      <td>461798</td>\n",
       "      <td>Female</td>\n",
       "      <td>No</td>\n",
       "      <td>56</td>\n",
       "      <td>Yes</td>\n",
       "      <td>Artist</td>\n",
       "      <td>0.0</td>\n",
       "      <td>Low</td>\n",
       "      <td>1.0</td>\n",
       "      <td>Cat_6</td>\n",
       "      <td>A</td>\n",
       "    </tr>\n",
       "    <tr>\n",
       "      <th>2</th>\n",
       "      <td>2</td>\n",
       "      <td>464976</td>\n",
       "      <td>Male</td>\n",
       "      <td>Yes</td>\n",
       "      <td>75</td>\n",
       "      <td>No</td>\n",
       "      <td>Lawyer</td>\n",
       "      <td>1.0</td>\n",
       "      <td>Low</td>\n",
       "      <td>1.0</td>\n",
       "      <td>Cat_4</td>\n",
       "      <td>D</td>\n",
       "    </tr>\n",
       "    <tr>\n",
       "      <th>3</th>\n",
       "      <td>3</td>\n",
       "      <td>462104</td>\n",
       "      <td>Male</td>\n",
       "      <td>Yes</td>\n",
       "      <td>39</td>\n",
       "      <td>No</td>\n",
       "      <td>Entertainment</td>\n",
       "      <td>9.0</td>\n",
       "      <td>Low</td>\n",
       "      <td>2.0</td>\n",
       "      <td>Cat_3</td>\n",
       "      <td>D</td>\n",
       "    </tr>\n",
       "    <tr>\n",
       "      <th>4</th>\n",
       "      <td>4</td>\n",
       "      <td>464829</td>\n",
       "      <td>Male</td>\n",
       "      <td>No</td>\n",
       "      <td>22</td>\n",
       "      <td>No</td>\n",
       "      <td>Healthcare</td>\n",
       "      <td>9.0</td>\n",
       "      <td>Low</td>\n",
       "      <td>5.0</td>\n",
       "      <td>Cat_4</td>\n",
       "      <td>D</td>\n",
       "    </tr>\n",
       "    <tr>\n",
       "      <th>5</th>\n",
       "      <td>5</td>\n",
       "      <td>464634</td>\n",
       "      <td>Female</td>\n",
       "      <td>No</td>\n",
       "      <td>32</td>\n",
       "      <td>Yes</td>\n",
       "      <td>Engineer</td>\n",
       "      <td>NaN</td>\n",
       "      <td>Low</td>\n",
       "      <td>9.0</td>\n",
       "      <td>Cat_4</td>\n",
       "      <td>D</td>\n",
       "    </tr>\n",
       "    <tr>\n",
       "      <th>6</th>\n",
       "      <td>6</td>\n",
       "      <td>467670</td>\n",
       "      <td>Male</td>\n",
       "      <td>No</td>\n",
       "      <td>25</td>\n",
       "      <td>No</td>\n",
       "      <td>Engineer</td>\n",
       "      <td>NaN</td>\n",
       "      <td>Low</td>\n",
       "      <td>3.0</td>\n",
       "      <td>Cat_6</td>\n",
       "      <td>A</td>\n",
       "    </tr>\n",
       "    <tr>\n",
       "      <th>7</th>\n",
       "      <td>7</td>\n",
       "      <td>462073</td>\n",
       "      <td>Female</td>\n",
       "      <td>No</td>\n",
       "      <td>36</td>\n",
       "      <td>Yes</td>\n",
       "      <td>Artist</td>\n",
       "      <td>6.0</td>\n",
       "      <td>Low</td>\n",
       "      <td>1.0</td>\n",
       "      <td>Cat_6</td>\n",
       "      <td>C</td>\n",
       "    </tr>\n",
       "    <tr>\n",
       "      <th>8</th>\n",
       "      <td>8</td>\n",
       "      <td>463611</td>\n",
       "      <td>Male</td>\n",
       "      <td>No</td>\n",
       "      <td>62</td>\n",
       "      <td>Yes</td>\n",
       "      <td>Artist</td>\n",
       "      <td>0.0</td>\n",
       "      <td>Low</td>\n",
       "      <td>NaN</td>\n",
       "      <td>Cat_6</td>\n",
       "      <td>A</td>\n",
       "    </tr>\n",
       "    <tr>\n",
       "      <th>9</th>\n",
       "      <td>9</td>\n",
       "      <td>460962</td>\n",
       "      <td>Male</td>\n",
       "      <td>Yes</td>\n",
       "      <td>55</td>\n",
       "      <td>Yes</td>\n",
       "      <td>Executive</td>\n",
       "      <td>9.0</td>\n",
       "      <td>High</td>\n",
       "      <td>4.0</td>\n",
       "      <td>Cat_6</td>\n",
       "      <td>C</td>\n",
       "    </tr>\n",
       "  </tbody>\n",
       "</table>\n",
       "</div>"
      ],
      "text/plain": [
       "   Unnamed: 0      ID  Gender Ever_Married  Age Graduated     Profession  \\\n",
       "0           0  460394  Female           No   32       Yes     Healthcare   \n",
       "1           1  461798  Female           No   56       Yes         Artist   \n",
       "2           2  464976    Male          Yes   75        No         Lawyer   \n",
       "3           3  462104    Male          Yes   39        No  Entertainment   \n",
       "4           4  464829    Male           No   22        No     Healthcare   \n",
       "5           5  464634  Female           No   32       Yes       Engineer   \n",
       "6           6  467670    Male           No   25        No       Engineer   \n",
       "7           7  462073  Female           No   36       Yes         Artist   \n",
       "8           8  463611    Male           No   62       Yes         Artist   \n",
       "9           9  460962    Male          Yes   55       Yes      Executive   \n",
       "\n",
       "   Work_Experience Spending_Score  Family_Size  Var_1 Segmentation  \n",
       "0              9.0            Low          3.0  Cat_6            D  \n",
       "1              0.0            Low          1.0  Cat_6            A  \n",
       "2              1.0            Low          1.0  Cat_4            D  \n",
       "3              9.0            Low          2.0  Cat_3            D  \n",
       "4              9.0            Low          5.0  Cat_4            D  \n",
       "5              NaN            Low          9.0  Cat_4            D  \n",
       "6              NaN            Low          3.0  Cat_6            A  \n",
       "7              6.0            Low          1.0  Cat_6            C  \n",
       "8              0.0            Low          NaN  Cat_6            A  \n",
       "9              9.0           High          4.0  Cat_6            C  "
      ]
     },
     "execution_count": 38,
     "metadata": {},
     "output_type": "execute_result"
    }
   ],
   "source": [
    "#Importing neccesary libraries\n",
    "data = pd.read_csv(\"Customer Segmentation.csv\")\n",
    "data.head(10)"
   ]
  },
  {
   "cell_type": "code",
   "execution_count": 39,
   "id": "a7461da5-0674-44f8-9c64-1f8897511964",
   "metadata": {},
   "outputs": [
    {
     "data": {
      "text/plain": [
       "Unnamed: 0            0\n",
       "ID                    0\n",
       "Gender                0\n",
       "Ever_Married        190\n",
       "Age                   0\n",
       "Graduated           102\n",
       "Profession          162\n",
       "Work_Experience    1098\n",
       "Spending_Score        0\n",
       "Family_Size         448\n",
       "Var_1               108\n",
       "Segmentation          0\n",
       "dtype: int64"
      ]
     },
     "execution_count": 39,
     "metadata": {},
     "output_type": "execute_result"
    }
   ],
   "source": [
    "data.isnull().sum()"
   ]
  },
  {
   "cell_type": "code",
   "execution_count": 40,
   "id": "7d29c25f-880f-4db4-9967-ac53487f5275",
   "metadata": {},
   "outputs": [
    {
     "data": {
      "text/plain": [
       "0        False\n",
       "1        False\n",
       "2        False\n",
       "3        False\n",
       "4        False\n",
       "         ...  \n",
       "10690    False\n",
       "10691    False\n",
       "10692    False\n",
       "10693    False\n",
       "10694    False\n",
       "Length: 10695, dtype: bool"
      ]
     },
     "execution_count": 40,
     "metadata": {},
     "output_type": "execute_result"
    }
   ],
   "source": [
    "data.duplicated()"
   ]
  },
  {
   "cell_type": "code",
   "execution_count": 41,
   "id": "f73e108c-e13d-4ca2-bca8-910663a7926e",
   "metadata": {},
   "outputs": [
    {
     "data": {
      "text/html": [
       "<div>\n",
       "<style scoped>\n",
       "    .dataframe tbody tr th:only-of-type {\n",
       "        vertical-align: middle;\n",
       "    }\n",
       "\n",
       "    .dataframe tbody tr th {\n",
       "        vertical-align: top;\n",
       "    }\n",
       "\n",
       "    .dataframe thead th {\n",
       "        text-align: right;\n",
       "    }\n",
       "</style>\n",
       "<table border=\"1\" class=\"dataframe\">\n",
       "  <thead>\n",
       "    <tr style=\"text-align: right;\">\n",
       "      <th></th>\n",
       "      <th>Unnamed: 0</th>\n",
       "      <th>ID</th>\n",
       "      <th>Gender</th>\n",
       "      <th>Ever_Married</th>\n",
       "      <th>Age</th>\n",
       "      <th>Graduated</th>\n",
       "      <th>Profession</th>\n",
       "      <th>Work_Experience</th>\n",
       "      <th>Spending_Score</th>\n",
       "      <th>Family_Size</th>\n",
       "      <th>Var_1</th>\n",
       "      <th>Segmentation</th>\n",
       "    </tr>\n",
       "  </thead>\n",
       "  <tbody>\n",
       "    <tr>\n",
       "      <th>0</th>\n",
       "      <td>0</td>\n",
       "      <td>460394</td>\n",
       "      <td>Female</td>\n",
       "      <td>No</td>\n",
       "      <td>32</td>\n",
       "      <td>Yes</td>\n",
       "      <td>Healthcare</td>\n",
       "      <td>9.0</td>\n",
       "      <td>Low</td>\n",
       "      <td>3.0</td>\n",
       "      <td>Cat_6</td>\n",
       "      <td>D</td>\n",
       "    </tr>\n",
       "    <tr>\n",
       "      <th>1</th>\n",
       "      <td>1</td>\n",
       "      <td>461798</td>\n",
       "      <td>Female</td>\n",
       "      <td>No</td>\n",
       "      <td>56</td>\n",
       "      <td>Yes</td>\n",
       "      <td>Artist</td>\n",
       "      <td>0.0</td>\n",
       "      <td>Low</td>\n",
       "      <td>1.0</td>\n",
       "      <td>Cat_6</td>\n",
       "      <td>A</td>\n",
       "    </tr>\n",
       "    <tr>\n",
       "      <th>2</th>\n",
       "      <td>2</td>\n",
       "      <td>464976</td>\n",
       "      <td>Male</td>\n",
       "      <td>Yes</td>\n",
       "      <td>75</td>\n",
       "      <td>No</td>\n",
       "      <td>Lawyer</td>\n",
       "      <td>1.0</td>\n",
       "      <td>Low</td>\n",
       "      <td>1.0</td>\n",
       "      <td>Cat_4</td>\n",
       "      <td>D</td>\n",
       "    </tr>\n",
       "    <tr>\n",
       "      <th>3</th>\n",
       "      <td>3</td>\n",
       "      <td>462104</td>\n",
       "      <td>Male</td>\n",
       "      <td>Yes</td>\n",
       "      <td>39</td>\n",
       "      <td>No</td>\n",
       "      <td>Entertainment</td>\n",
       "      <td>9.0</td>\n",
       "      <td>Low</td>\n",
       "      <td>2.0</td>\n",
       "      <td>Cat_3</td>\n",
       "      <td>D</td>\n",
       "    </tr>\n",
       "    <tr>\n",
       "      <th>4</th>\n",
       "      <td>4</td>\n",
       "      <td>464829</td>\n",
       "      <td>Male</td>\n",
       "      <td>No</td>\n",
       "      <td>22</td>\n",
       "      <td>No</td>\n",
       "      <td>Healthcare</td>\n",
       "      <td>9.0</td>\n",
       "      <td>Low</td>\n",
       "      <td>5.0</td>\n",
       "      <td>Cat_4</td>\n",
       "      <td>D</td>\n",
       "    </tr>\n",
       "    <tr>\n",
       "      <th>...</th>\n",
       "      <td>...</td>\n",
       "      <td>...</td>\n",
       "      <td>...</td>\n",
       "      <td>...</td>\n",
       "      <td>...</td>\n",
       "      <td>...</td>\n",
       "      <td>...</td>\n",
       "      <td>...</td>\n",
       "      <td>...</td>\n",
       "      <td>...</td>\n",
       "      <td>...</td>\n",
       "      <td>...</td>\n",
       "    </tr>\n",
       "    <tr>\n",
       "      <th>10690</th>\n",
       "      <td>10690</td>\n",
       "      <td>462861</td>\n",
       "      <td>Female</td>\n",
       "      <td>No</td>\n",
       "      <td>30</td>\n",
       "      <td>Yes</td>\n",
       "      <td>Healthcare</td>\n",
       "      <td>8.0</td>\n",
       "      <td>Low</td>\n",
       "      <td>1.0</td>\n",
       "      <td>Cat_6</td>\n",
       "      <td>D</td>\n",
       "    </tr>\n",
       "    <tr>\n",
       "      <th>10691</th>\n",
       "      <td>10691</td>\n",
       "      <td>464409</td>\n",
       "      <td>Female</td>\n",
       "      <td>Yes</td>\n",
       "      <td>81</td>\n",
       "      <td>Yes</td>\n",
       "      <td>Lawyer</td>\n",
       "      <td>0.0</td>\n",
       "      <td>Average</td>\n",
       "      <td>2.0</td>\n",
       "      <td>Cat_6</td>\n",
       "      <td>A</td>\n",
       "    </tr>\n",
       "    <tr>\n",
       "      <th>10692</th>\n",
       "      <td>10692</td>\n",
       "      <td>465861</td>\n",
       "      <td>Female</td>\n",
       "      <td>No</td>\n",
       "      <td>40</td>\n",
       "      <td>Yes</td>\n",
       "      <td>Entertainment</td>\n",
       "      <td>14.0</td>\n",
       "      <td>Low</td>\n",
       "      <td>1.0</td>\n",
       "      <td>Cat_6</td>\n",
       "      <td>A</td>\n",
       "    </tr>\n",
       "    <tr>\n",
       "      <th>10693</th>\n",
       "      <td>10693</td>\n",
       "      <td>465056</td>\n",
       "      <td>Male</td>\n",
       "      <td>Yes</td>\n",
       "      <td>87</td>\n",
       "      <td>Yes</td>\n",
       "      <td>Lawyer</td>\n",
       "      <td>1.0</td>\n",
       "      <td>High</td>\n",
       "      <td>2.0</td>\n",
       "      <td>Cat_6</td>\n",
       "      <td>A</td>\n",
       "    </tr>\n",
       "    <tr>\n",
       "      <th>10694</th>\n",
       "      <td>10694</td>\n",
       "      <td>461637</td>\n",
       "      <td>Male</td>\n",
       "      <td>Yes</td>\n",
       "      <td>51</td>\n",
       "      <td>Yes</td>\n",
       "      <td>Artist</td>\n",
       "      <td>1.0</td>\n",
       "      <td>Low</td>\n",
       "      <td>2.0</td>\n",
       "      <td>Cat_7</td>\n",
       "      <td>B</td>\n",
       "    </tr>\n",
       "  </tbody>\n",
       "</table>\n",
       "<p>10695 rows × 12 columns</p>\n",
       "</div>"
      ],
      "text/plain": [
       "       Unnamed: 0      ID  Gender Ever_Married  Age Graduated     Profession  \\\n",
       "0               0  460394  Female           No   32       Yes     Healthcare   \n",
       "1               1  461798  Female           No   56       Yes         Artist   \n",
       "2               2  464976    Male          Yes   75        No         Lawyer   \n",
       "3               3  462104    Male          Yes   39        No  Entertainment   \n",
       "4               4  464829    Male           No   22        No     Healthcare   \n",
       "...           ...     ...     ...          ...  ...       ...            ...   \n",
       "10690       10690  462861  Female           No   30       Yes     Healthcare   \n",
       "10691       10691  464409  Female          Yes   81       Yes         Lawyer   \n",
       "10692       10692  465861  Female           No   40       Yes  Entertainment   \n",
       "10693       10693  465056    Male          Yes   87       Yes         Lawyer   \n",
       "10694       10694  461637    Male          Yes   51       Yes         Artist   \n",
       "\n",
       "       Work_Experience Spending_Score  Family_Size  Var_1 Segmentation  \n",
       "0                  9.0            Low          3.0  Cat_6            D  \n",
       "1                  0.0            Low          1.0  Cat_6            A  \n",
       "2                  1.0            Low          1.0  Cat_4            D  \n",
       "3                  9.0            Low          2.0  Cat_3            D  \n",
       "4                  9.0            Low          5.0  Cat_4            D  \n",
       "...                ...            ...          ...    ...          ...  \n",
       "10690              8.0            Low          1.0  Cat_6            D  \n",
       "10691              0.0        Average          2.0  Cat_6            A  \n",
       "10692             14.0            Low          1.0  Cat_6            A  \n",
       "10693              1.0           High          2.0  Cat_6            A  \n",
       "10694              1.0            Low          2.0  Cat_7            B  \n",
       "\n",
       "[10695 rows x 12 columns]"
      ]
     },
     "execution_count": 41,
     "metadata": {},
     "output_type": "execute_result"
    }
   ],
   "source": [
    "data.drop_duplicates()"
   ]
  },
  {
   "cell_type": "code",
   "execution_count": 42,
   "id": "f0e7c1a3-8ba9-4bda-8684-b8b360d16e6b",
   "metadata": {},
   "outputs": [
    {
     "data": {
      "text/plain": [
       "Index(['Unnamed: 0', 'ID', 'Gender', 'Ever_Married', 'Age', 'Graduated',\n",
       "       'Profession', 'Work_Experience', 'Spending_Score', 'Family_Size',\n",
       "       'Var_1', 'Segmentation'],\n",
       "      dtype='object')"
      ]
     },
     "execution_count": 42,
     "metadata": {},
     "output_type": "execute_result"
    }
   ],
   "source": [
    "data.columns"
   ]
  },
  {
   "cell_type": "markdown",
   "id": "4ba41b94-01e2-451c-9d60-aee4e83fc215",
   "metadata": {},
   "source": [
    "#Dropping the records with null values"
   ]
  },
  {
   "cell_type": "code",
   "execution_count": 43,
   "id": "7d5ef0f7-1196-4100-a284-a00b77516221",
   "metadata": {},
   "outputs": [],
   "source": [
    "data.dropna(inplace=True)"
   ]
  },
  {
   "cell_type": "code",
   "execution_count": 44,
   "id": "9d5b11c4-f4f6-480d-8ddc-64bf0da67f29",
   "metadata": {},
   "outputs": [
    {
     "data": {
      "text/plain": [
       "(8819, 12)"
      ]
     },
     "execution_count": 44,
     "metadata": {},
     "output_type": "execute_result"
    }
   ],
   "source": [
    "data.shape"
   ]
  },
  {
   "cell_type": "markdown",
   "id": "fe05da31-d9f0-48ef-8c0a-c6f5fb86ac58",
   "metadata": {},
   "source": [
    "#Dropping unneccesary columns"
   ]
  },
  {
   "cell_type": "code",
   "execution_count": 45,
   "id": "d23121dc-171e-4eb3-8886-0f88bdd4127a",
   "metadata": {},
   "outputs": [],
   "source": [
    "data.drop('Unnamed: 0',axis=1,inplace = True)"
   ]
  },
  {
   "cell_type": "code",
   "execution_count": 46,
   "id": "48d73cce-e7d5-4a34-8c6e-6049cc381ecd",
   "metadata": {},
   "outputs": [],
   "source": [
    "data.drop('ID',axis=1,inplace = True)"
   ]
  },
  {
   "cell_type": "code",
   "execution_count": 47,
   "id": "3dc23b15-b693-4a7a-8025-0acfb0b4313a",
   "metadata": {},
   "outputs": [],
   "source": [
    "data.drop('Var_1',axis=1,inplace=True)"
   ]
  },
  {
   "cell_type": "code",
   "execution_count": 48,
   "id": "b7734c4f-66b4-4586-9ade-bdb7ae3dbff0",
   "metadata": {},
   "outputs": [
    {
     "data": {
      "text/html": [
       "<div>\n",
       "<style scoped>\n",
       "    .dataframe tbody tr th:only-of-type {\n",
       "        vertical-align: middle;\n",
       "    }\n",
       "\n",
       "    .dataframe tbody tr th {\n",
       "        vertical-align: top;\n",
       "    }\n",
       "\n",
       "    .dataframe thead th {\n",
       "        text-align: right;\n",
       "    }\n",
       "</style>\n",
       "<table border=\"1\" class=\"dataframe\">\n",
       "  <thead>\n",
       "    <tr style=\"text-align: right;\">\n",
       "      <th></th>\n",
       "      <th>Gender</th>\n",
       "      <th>Ever_Married</th>\n",
       "      <th>Age</th>\n",
       "      <th>Graduated</th>\n",
       "      <th>Profession</th>\n",
       "      <th>Work_Experience</th>\n",
       "      <th>Spending_Score</th>\n",
       "      <th>Family_Size</th>\n",
       "      <th>Segmentation</th>\n",
       "    </tr>\n",
       "  </thead>\n",
       "  <tbody>\n",
       "    <tr>\n",
       "      <th>0</th>\n",
       "      <td>Female</td>\n",
       "      <td>No</td>\n",
       "      <td>32</td>\n",
       "      <td>Yes</td>\n",
       "      <td>Healthcare</td>\n",
       "      <td>9.0</td>\n",
       "      <td>Low</td>\n",
       "      <td>3.0</td>\n",
       "      <td>D</td>\n",
       "    </tr>\n",
       "    <tr>\n",
       "      <th>1</th>\n",
       "      <td>Female</td>\n",
       "      <td>No</td>\n",
       "      <td>56</td>\n",
       "      <td>Yes</td>\n",
       "      <td>Artist</td>\n",
       "      <td>0.0</td>\n",
       "      <td>Low</td>\n",
       "      <td>1.0</td>\n",
       "      <td>A</td>\n",
       "    </tr>\n",
       "    <tr>\n",
       "      <th>2</th>\n",
       "      <td>Male</td>\n",
       "      <td>Yes</td>\n",
       "      <td>75</td>\n",
       "      <td>No</td>\n",
       "      <td>Lawyer</td>\n",
       "      <td>1.0</td>\n",
       "      <td>Low</td>\n",
       "      <td>1.0</td>\n",
       "      <td>D</td>\n",
       "    </tr>\n",
       "    <tr>\n",
       "      <th>3</th>\n",
       "      <td>Male</td>\n",
       "      <td>Yes</td>\n",
       "      <td>39</td>\n",
       "      <td>No</td>\n",
       "      <td>Entertainment</td>\n",
       "      <td>9.0</td>\n",
       "      <td>Low</td>\n",
       "      <td>2.0</td>\n",
       "      <td>D</td>\n",
       "    </tr>\n",
       "    <tr>\n",
       "      <th>4</th>\n",
       "      <td>Male</td>\n",
       "      <td>No</td>\n",
       "      <td>22</td>\n",
       "      <td>No</td>\n",
       "      <td>Healthcare</td>\n",
       "      <td>9.0</td>\n",
       "      <td>Low</td>\n",
       "      <td>5.0</td>\n",
       "      <td>D</td>\n",
       "    </tr>\n",
       "  </tbody>\n",
       "</table>\n",
       "</div>"
      ],
      "text/plain": [
       "   Gender Ever_Married  Age Graduated     Profession  Work_Experience  \\\n",
       "0  Female           No   32       Yes     Healthcare              9.0   \n",
       "1  Female           No   56       Yes         Artist              0.0   \n",
       "2    Male          Yes   75        No         Lawyer              1.0   \n",
       "3    Male          Yes   39        No  Entertainment              9.0   \n",
       "4    Male           No   22        No     Healthcare              9.0   \n",
       "\n",
       "  Spending_Score  Family_Size Segmentation  \n",
       "0            Low          3.0            D  \n",
       "1            Low          1.0            A  \n",
       "2            Low          1.0            D  \n",
       "3            Low          2.0            D  \n",
       "4            Low          5.0            D  "
      ]
     },
     "execution_count": 48,
     "metadata": {},
     "output_type": "execute_result"
    }
   ],
   "source": [
    "data.head(5)"
   ]
  },
  {
   "cell_type": "markdown",
   "id": "fd2127b6-684a-415d-b32e-673900592507",
   "metadata": {},
   "source": [
    "#Data Description"
   ]
  },
  {
   "cell_type": "code",
   "execution_count": 49,
   "id": "7f76a927-2b2a-40cf-a08f-8f0f3b19f8ca",
   "metadata": {},
   "outputs": [
    {
     "name": "stdout",
     "output_type": "stream",
     "text": [
      "<class 'pandas.core.frame.DataFrame'>\n",
      "Index: 8819 entries, 0 to 10694\n",
      "Data columns (total 9 columns):\n",
      " #   Column           Non-Null Count  Dtype  \n",
      "---  ------           --------------  -----  \n",
      " 0   Gender           8819 non-null   object \n",
      " 1   Ever_Married     8819 non-null   object \n",
      " 2   Age              8819 non-null   int64  \n",
      " 3   Graduated        8819 non-null   object \n",
      " 4   Profession       8819 non-null   object \n",
      " 5   Work_Experience  8819 non-null   float64\n",
      " 6   Spending_Score   8819 non-null   object \n",
      " 7   Family_Size      8819 non-null   float64\n",
      " 8   Segmentation     8819 non-null   object \n",
      "dtypes: float64(2), int64(1), object(6)\n",
      "memory usage: 689.0+ KB\n"
     ]
    }
   ],
   "source": [
    "data.info()"
   ]
  },
  {
   "cell_type": "code",
   "execution_count": 50,
   "id": "82d60662-565b-48ab-8a26-e53d054478ad",
   "metadata": {},
   "outputs": [
    {
     "data": {
      "text/html": [
       "<div>\n",
       "<style scoped>\n",
       "    .dataframe tbody tr th:only-of-type {\n",
       "        vertical-align: middle;\n",
       "    }\n",
       "\n",
       "    .dataframe tbody tr th {\n",
       "        vertical-align: top;\n",
       "    }\n",
       "\n",
       "    .dataframe thead th {\n",
       "        text-align: right;\n",
       "    }\n",
       "</style>\n",
       "<table border=\"1\" class=\"dataframe\">\n",
       "  <thead>\n",
       "    <tr style=\"text-align: right;\">\n",
       "      <th></th>\n",
       "      <th>Age</th>\n",
       "      <th>Work_Experience</th>\n",
       "      <th>Family_Size</th>\n",
       "    </tr>\n",
       "  </thead>\n",
       "  <tbody>\n",
       "    <tr>\n",
       "      <th>count</th>\n",
       "      <td>8819.000000</td>\n",
       "      <td>8819.000000</td>\n",
       "      <td>8819.000000</td>\n",
       "    </tr>\n",
       "    <tr>\n",
       "      <th>mean</th>\n",
       "      <td>43.517859</td>\n",
       "      <td>2.610160</td>\n",
       "      <td>2.840118</td>\n",
       "    </tr>\n",
       "    <tr>\n",
       "      <th>std</th>\n",
       "      <td>16.581537</td>\n",
       "      <td>3.390676</td>\n",
       "      <td>1.535051</td>\n",
       "    </tr>\n",
       "    <tr>\n",
       "      <th>min</th>\n",
       "      <td>18.000000</td>\n",
       "      <td>0.000000</td>\n",
       "      <td>1.000000</td>\n",
       "    </tr>\n",
       "    <tr>\n",
       "      <th>25%</th>\n",
       "      <td>31.000000</td>\n",
       "      <td>0.000000</td>\n",
       "      <td>2.000000</td>\n",
       "    </tr>\n",
       "    <tr>\n",
       "      <th>50%</th>\n",
       "      <td>41.000000</td>\n",
       "      <td>1.000000</td>\n",
       "      <td>2.000000</td>\n",
       "    </tr>\n",
       "    <tr>\n",
       "      <th>75%</th>\n",
       "      <td>53.000000</td>\n",
       "      <td>4.000000</td>\n",
       "      <td>4.000000</td>\n",
       "    </tr>\n",
       "    <tr>\n",
       "      <th>max</th>\n",
       "      <td>89.000000</td>\n",
       "      <td>14.000000</td>\n",
       "      <td>9.000000</td>\n",
       "    </tr>\n",
       "  </tbody>\n",
       "</table>\n",
       "</div>"
      ],
      "text/plain": [
       "               Age  Work_Experience  Family_Size\n",
       "count  8819.000000      8819.000000  8819.000000\n",
       "mean     43.517859         2.610160     2.840118\n",
       "std      16.581537         3.390676     1.535051\n",
       "min      18.000000         0.000000     1.000000\n",
       "25%      31.000000         0.000000     2.000000\n",
       "50%      41.000000         1.000000     2.000000\n",
       "75%      53.000000         4.000000     4.000000\n",
       "max      89.000000        14.000000     9.000000"
      ]
     },
     "execution_count": 50,
     "metadata": {},
     "output_type": "execute_result"
    }
   ],
   "source": [
    "data.describe()"
   ]
  },
  {
   "cell_type": "markdown",
   "id": "d9f086b5-5550-4d46-a318-00d4766ea13e",
   "metadata": {},
   "source": [
    "1.How age affects the spending score of the customer?"
   ]
  },
  {
   "cell_type": "code",
   "execution_count": 51,
   "id": "a7fb98a8-ae90-430a-aaa5-73e431143a4b",
   "metadata": {},
   "outputs": [
    {
     "name": "stdout",
     "output_type": "stream",
     "text": [
      "Correlation between age and spending score:  0.4520554739122638\n"
     ]
    }
   ],
   "source": [
    "#Converting the ordinal values of Spending score column into numerical values\n",
    "data['Spending_Score_Encoded'] = data['Spending_Score'].map({'Low': 1, 'Medium': 2, 'High': 3})\n",
    "x = data['Age']\n",
    "y = data['Spending_Score_Encoded']\n",
    "corr_x_y = x.corr(y)\n",
    "print(\"Correlation between age and spending score: \",corr_x_y)"
   ]
  },
  {
   "cell_type": "markdown",
   "id": "c8c2ee6a-841e-4a43-bbe6-bb1fa20a6c4c",
   "metadata": {},
   "source": [
    "2.What is the average age of consumer?"
   ]
  },
  {
   "cell_type": "code",
   "execution_count": 52,
   "id": "6a06354c-c9b5-4aa1-89ef-07b0f5de049b",
   "metadata": {},
   "outputs": [
    {
     "name": "stdout",
     "output_type": "stream",
     "text": [
      "Average age of a customer:  43.51785916770609\n"
     ]
    }
   ],
   "source": [
    "#The average age of customer \n",
    "avg_age = np.mean(data['Age'])\n",
    "print(\"Average age of a customer: \",avg_age)"
   ]
  },
  {
   "cell_type": "markdown",
   "id": "27e24e9d-3b9c-41cc-9abb-c2fc46654adc",
   "metadata": {},
   "source": [
    "3. Which age group has the highest spending score?"
   ]
  },
  {
   "cell_type": "code",
   "execution_count": 53,
   "id": "08ba28db-a23d-4b33-9503-a6a2c44f3ec1",
   "metadata": {},
   "outputs": [
    {
     "name": "stderr",
     "output_type": "stream",
     "text": [
      "C:\\Users\\Nikita\\AppData\\Local\\Temp\\ipykernel_4764\\3661697709.py:9: FutureWarning: The default of observed=False is deprecated and will be changed to True in a future version of pandas. Pass observed=False to retain current behavior or observed=True to adopt the future default and silence this warning.\n",
      "  group_scores = data.groupby('Age_Group')['Spending_Score_Encoded'].mean().sort_values(ascending=True)\n"
     ]
    },
    {
     "data": {
      "image/png": "[encoded data removed]",
      "text/plain": [
       "<Figure size 640x480 with 1 Axes>"
      ]
     },
     "metadata": {},
     "output_type": "display_data"
    }
   ],
   "source": [
    "data['Spending_Score_Encoded'] = data['Spending_Score'].map({'Low': 1, 'Medium': 2, 'High': 3})\n",
    "\n",
    "#Creating a age group\n",
    "bins = [18,30,55,65,90]\n",
    "labels = [\"18-30\",\"31-55\",\"56-65\",\"66-90\"]\n",
    "data['Age_Group'] = pd.cut(data['Age'], bins=bins, labels=labels, right=False)\n",
    "\n",
    "# Calculate average spending score per age group\n",
    "group_scores = data.groupby('Age_Group')['Spending_Score_Encoded'].mean().sort_values(ascending=True)\n",
    "\n",
    "#Plotting a bar chart\n",
    "group_scores.plot(kind=\"bar\", color=\"darkblue\")\n",
    "plt.title(\"Age group having highest spending score\")\n",
    "plt.xlabel(\"Age_Group\")\n",
    "plt.ylabel(\"Spending_Score\")\n",
    "plt.show()"
   ]
  },
  {
   "cell_type": "markdown",
   "id": "d653fb50-3ec7-408f-9ae6-0f3f11610693",
   "metadata": {},
   "source": [
    "4. Does the spending score vary significantly between genders?"
   ]
  },
  {
   "cell_type": "code",
   "execution_count": 54,
   "id": "8ba83b28-ea1f-4a3b-ba89-58a7739b50f0",
   "metadata": {},
   "outputs": [
    {
     "data": {
      "image/png": "[encoded data removed]",
      "text/plain": [
       "<Figure size 640x480 with 1 Axes>"
      ]
     },
     "metadata": {},
     "output_type": "display_data"
    }
   ],
   "source": [
    "#Converting the ordinal values of Spending score column into numerical values\n",
    "spending_score_genders = data.groupby('Gender')['Spending_Score_Encoded'].mean().sort_values(ascending=True)\n",
    "#Plotting a bar chart\n",
    "spending_score_genders.plot(kind=\"bar\", color=\"pink\")\n",
    "plt.title(\"Spending Score according gender\")\n",
    "plt.xlabel(\"Gender\")\n",
    "plt.ylabel(\"Spending_Score\")\n",
    "plt.show()"
   ]
  },
  {
   "cell_type": "code",
   "execution_count": 55,
   "id": "f33f102b-2086-4047-bc3e-a9f8a7c0a69c",
   "metadata": {},
   "outputs": [
    {
     "name": "stderr",
     "output_type": "stream",
     "text": [
      "C:\\Users\\Nikita\\AppData\\Local\\Temp\\ipykernel_4764\\4196286497.py:2: FutureWarning: \n",
      "\n",
      "Passing `palette` without assigning `hue` is deprecated and will be removed in v0.14.0. Assign the `x` variable to `hue` and set `legend=False` for the same effect.\n",
      "\n",
      "  sns.boxplot(x=data['Spending_Score'], y=data['Age'], data=data, palette='pastel')\n"
     ]
    },
    {
     "data": {
      "image/png": "[encoded data removed]",
      "text/plain": [
       "<Figure size 800x500 with 1 Axes>"
      ]
     },
     "metadata": {},
     "output_type": "display_data"
    }
   ],
   "source": [
    "plt.figure(figsize=(8, 5))\n",
    "sns.boxplot(x=data['Spending_Score'], y=data['Age'], data=data, palette='pastel')\n",
    "\n",
    "plt.title('Age Distribution by Spending Score Category')\n",
    "plt.xlabel('Spending Score')\n",
    "plt.ylabel('Age')\n",
    "plt.grid()\n",
    "plt.show()"
   ]
  },
  {
   "cell_type": "markdown",
   "id": "a77cc964-2a0e-4873-847e-099fc353b432",
   "metadata": {},
   "source": [
    "5.What proportion of customers are married versus unmarried?"
   ]
  },
  {
   "cell_type": "code",
   "execution_count": 56,
   "id": "2a118c95-c21d-4421-8d37-cfd1baa606be",
   "metadata": {},
   "outputs": [
    {
     "data": {
      "text/html": [
       "<div>\n",
       "<style scoped>\n",
       "    .dataframe tbody tr th:only-of-type {\n",
       "        vertical-align: middle;\n",
       "    }\n",
       "\n",
       "    .dataframe tbody tr th {\n",
       "        vertical-align: top;\n",
       "    }\n",
       "\n",
       "    .dataframe thead th {\n",
       "        text-align: right;\n",
       "    }\n",
       "</style>\n",
       "<table border=\"1\" class=\"dataframe\">\n",
       "  <thead>\n",
       "    <tr style=\"text-align: right;\">\n",
       "      <th></th>\n",
       "      <th>Gender</th>\n",
       "      <th>Age</th>\n",
       "      <th>Graduated</th>\n",
       "      <th>Profession</th>\n",
       "      <th>Work_Experience</th>\n",
       "      <th>Spending_Score</th>\n",
       "      <th>Family_Size</th>\n",
       "      <th>Segmentation</th>\n",
       "      <th>Spending_Score_Encoded</th>\n",
       "      <th>Age_Group</th>\n",
       "    </tr>\n",
       "    <tr>\n",
       "      <th>Ever_Married</th>\n",
       "      <th></th>\n",
       "      <th></th>\n",
       "      <th></th>\n",
       "      <th></th>\n",
       "      <th></th>\n",
       "      <th></th>\n",
       "      <th></th>\n",
       "      <th></th>\n",
       "      <th></th>\n",
       "      <th></th>\n",
       "    </tr>\n",
       "  </thead>\n",
       "  <tbody>\n",
       "    <tr>\n",
       "      <th>No</th>\n",
       "      <td>3603</td>\n",
       "      <td>3603</td>\n",
       "      <td>3603</td>\n",
       "      <td>3603</td>\n",
       "      <td>3603</td>\n",
       "      <td>3603</td>\n",
       "      <td>3603</td>\n",
       "      <td>3603</td>\n",
       "      <td>3603</td>\n",
       "      <td>3603</td>\n",
       "    </tr>\n",
       "    <tr>\n",
       "      <th>Yes</th>\n",
       "      <td>5216</td>\n",
       "      <td>5216</td>\n",
       "      <td>5216</td>\n",
       "      <td>5216</td>\n",
       "      <td>5216</td>\n",
       "      <td>5216</td>\n",
       "      <td>5216</td>\n",
       "      <td>5216</td>\n",
       "      <td>3033</td>\n",
       "      <td>5216</td>\n",
       "    </tr>\n",
       "  </tbody>\n",
       "</table>\n",
       "</div>"
      ],
      "text/plain": [
       "              Gender   Age  Graduated  Profession  Work_Experience  \\\n",
       "Ever_Married                                                         \n",
       "No              3603  3603       3603        3603             3603   \n",
       "Yes             5216  5216       5216        5216             5216   \n",
       "\n",
       "              Spending_Score  Family_Size  Segmentation  \\\n",
       "Ever_Married                                              \n",
       "No                      3603         3603          3603   \n",
       "Yes                     5216         5216          5216   \n",
       "\n",
       "              Spending_Score_Encoded  Age_Group  \n",
       "Ever_Married                                     \n",
       "No                              3603       3603  \n",
       "Yes                             3033       5216  "
      ]
     },
     "execution_count": 56,
     "metadata": {},
     "output_type": "execute_result"
    }
   ],
   "source": [
    "data.groupby('Ever_Married').count()"
   ]
  },
  {
   "cell_type": "code",
   "execution_count": 57,
   "id": "572ab778-0c5f-41a3-94a3-15b2d56dd5c0",
   "metadata": {},
   "outputs": [
    {
     "data": {
      "text/plain": [
       "<seaborn.axisgrid.FacetGrid at 0x29833d00140>"
      ]
     },
     "execution_count": 57,
     "metadata": {},
     "output_type": "execute_result"
    },
    {
     "data": {
      "image/png": "[encoded data removed]",
      "text/plain": [
       "<Figure size 500x500 with 1 Axes>"
      ]
     },
     "metadata": {},
     "output_type": "display_data"
    }
   ],
   "source": [
    "sns.displot(data=data,x=data['Ever_Married'],color='aqua')\n"
   ]
  },
  {
   "cell_type": "markdown",
   "id": "c5eba76c-dae6-45ab-a453-25e9abb9fd56",
   "metadata": {},
   "source": [
    "6. What are the most common professions among the customers?"
   ]
  },
  {
   "cell_type": "code",
   "execution_count": 58,
   "id": "0900b7f2-8946-4daa-b6e5-166eba937048",
   "metadata": {},
   "outputs": [
    {
     "name": "stdout",
     "output_type": "stream",
     "text": [
      "Most Common Professions:\n",
      "Profession\n",
      "Artist           2888\n",
      "Healthcare       1414\n",
      "Entertainment    1063\n",
      "Doctor            798\n",
      "Engineer          777\n",
      "Lawyer            673\n",
      "Executive         652\n",
      "Marketing         325\n",
      "Homemaker         229\n",
      "Name: count, dtype: int64\n"
     ]
    }
   ],
   "source": [
    "# Count most common professions\n",
    "profession_counts = data['Profession'].value_counts()\n",
    "\n",
    "print(\"Most Common Professions:\")\n",
    "print(profession_counts)"
   ]
  },
  {
   "cell_type": "markdown",
   "id": "b9f89ffb-6018-4c0f-8967-9b0bbce5645f",
   "metadata": {},
   "source": [
    "7. How many customers fall into each segmentation category (A, B, C, D)?"
   ]
  },
  {
   "cell_type": "code",
   "execution_count": 59,
   "id": "5aa2c83b-8463-4d7d-8cf2-951392e01758",
   "metadata": {},
   "outputs": [
    {
     "name": "stdout",
     "output_type": "stream",
     "text": [
      "Segmentation category-wise customer count:\n",
      "Segmentation\n",
      "D    2388\n",
      "A    2308\n",
      "C    2101\n",
      "B    2022\n",
      "Name: count, dtype: int64\n"
     ]
    },
    {
     "data": {
      "image/png": "[encoded data removed]",
      "text/plain": [
       "<Figure size 640x480 with 1 Axes>"
      ]
     },
     "metadata": {},
     "output_type": "display_data"
    }
   ],
   "source": [
    "segmentation_category_count = data['Segmentation'].value_counts()\n",
    "\n",
    "print(\"Segmentation category-wise customer count:\")\n",
    "print(segmentation_category_count)\n",
    "\n",
    "plt.pie(segmentation_category_count,labels=['D','A','C','B'])\n",
    "plt.title(\"Segmentation according to the category\")\n",
    "plt.show()"
   ]
  },
  {
   "cell_type": "markdown",
   "id": "bae9995a-ad25-4d81-90a3-4bcec312cfbc",
   "metadata": {},
   "source": [
    "8. Multi-Panel Comparison by Marital Status\n",
    "for side-by-side plotting of profession vs age group for married vs unmarried"
   ]
  },
  {
   "cell_type": "code",
   "execution_count": 76,
   "id": "588de796-4bea-4cf2-9275-279986df820f",
   "metadata": {},
   "outputs": [
    {
     "data": {
      "image/png": "[encoded data removed]",
      "text/plain": [
       "<Figure size 1350.25x500 with 2 Axes>"
      ]
     },
     "metadata": {},
     "output_type": "display_data"
    }
   ],
   "source": [
    "g = sns.catplot(data=data, x=data['Age_Group'], hue=data['Profession'], col=data['Ever_Married'],\n",
    "                kind='count', height=5, aspect=1.2)\n",
    "g.set_titles(\"Married: {col_name}\")\n",
    "plt.tight_layout()\n",
    "plt.show()"
   ]
  },
  {
   "cell_type": "code",
   "execution_count": 60,
   "id": "066eadcd-6096-4a8f-b624-2a5a85f3a7d5",
   "metadata": {},
   "outputs": [
    {
     "data": {
      "image/png": "[encoded data removed]",
      "text/plain": [
       "<Figure size 1000x600 with 2 Axes>"
      ]
     },
     "metadata": {},
     "output_type": "display_data"
    }
   ],
   "source": [
    "# Select numerical columns for correlation\n",
    "numerical_cols = data.select_dtypes(include=['int64', 'float64']).copy()\n",
    "numerical_cols['Spending_Score_Encoded'] = data['Spending_Score_Encoded']\n",
    "\n",
    "# Compute the correlation matrix\n",
    "correlation_matrix = numerical_cols.corr()\n",
    "\n",
    "# Plot the heatmap\n",
    "plt.figure(figsize=(10, 6))\n",
    "sns.heatmap(correlation_matrix, annot=True, cmap='PiYG', fmt=\".2f\")\n",
    "plt.title(\"Correlation Heatmap of Numerical Variables\")\n",
    "plt.show()"
   ]
  },
  {
   "cell_type": "markdown",
   "id": "6279b592-3471-4033-8abc-ab867e5093a9",
   "metadata": {},
   "source": [
    "9. How does family size affect spending score?"
   ]
  },
  {
   "cell_type": "code",
   "execution_count": 61,
   "id": "472e9e37-5e64-4c0a-bb8a-809df471d074",
   "metadata": {},
   "outputs": [
    {
     "data": {
      "text/plain": [
       "0.0694465433370522"
      ]
     },
     "execution_count": 61,
     "metadata": {},
     "output_type": "execute_result"
    }
   ],
   "source": [
    "data['Spending_Score_Encoded']=data['Spending_Score'].map({'Low':1,'Medium':2,'High':3})\n",
    "family_size = data['Family_Size']\n",
    "spending_score = data['Spending_Score_Encoded']\n",
    "corr_family_size_score = family_size.corr(spending_score)\n",
    "corr_family_size_score"
   ]
  },
  {
   "cell_type": "markdown",
   "id": "f1142333-41ec-4b2c-a234-354b4ff713f2",
   "metadata": {},
   "source": [
    "10. Number of graduates and non-graduates with their spending score."
   ]
  },
  {
   "cell_type": "code",
   "execution_count": 72,
   "id": "be6ca1c8-57f8-4fda-86b4-173371fa94ce",
   "metadata": {},
   "outputs": [
    {
     "data": {
      "text/plain": [
       "Graduated\n",
       "Yes    5594\n",
       "No     3225\n",
       "Name: count, dtype: int64"
      ]
     },
     "execution_count": 72,
     "metadata": {},
     "output_type": "execute_result"
    }
   ],
   "source": [
    "data[\"Graduated\"].value_counts()"
   ]
  },
  {
   "cell_type": "code",
   "execution_count": 63,
   "id": "51ae7e2d-7510-43a7-a44b-364f7ae0903f",
   "metadata": {},
   "outputs": [
    {
     "data": {
      "text/plain": [
       "<seaborn.axisgrid.FacetGrid at 0x29835ee1040>"
      ]
     },
     "execution_count": 63,
     "metadata": {},
     "output_type": "execute_result"
    },
    {
     "data": {
      "image/png": "[encoded data removed]",
      "text/plain": [
       "<Figure size 622.236x500 with 1 Axes>"
      ]
     },
     "metadata": {},
     "output_type": "display_data"
    }
   ],
   "source": [
    "sns.catplot(data=data, x = data['Graduated'], y = data['Age'], hue=data['Spending_Score'], kind='bar')"
   ]
  },
  {
   "cell_type": "markdown",
   "id": "07d50ca6-cd63-4b83-b297-70eee68454ec",
   "metadata": {},
   "source": [
    "11. Marital Status Within Each Age Group"
   ]
  },
  {
   "cell_type": "code",
   "execution_count": 71,
   "id": "f163c866-0391-42ca-8f88-26ed925902a7",
   "metadata": {},
   "outputs": [
    {
     "data": {
      "image/png": "[encoded data removed]",
      "text/plain": [
       "<Figure size 640x480 with 1 Axes>"
      ]
     },
     "metadata": {},
     "output_type": "display_data"
    }
   ],
   "source": [
    "sns.countplot(data=data, x=data['Age_Group'], hue=data['Ever_Married'], palette='colorblind')\n",
    "plt.title('Marital Status Distribution by Age Group')\n",
    "plt.xlabel('Age Group')\n",
    "plt.ylabel('Count')\n",
    "plt.legend(title='Married?')\n",
    "plt.show()"
   ]
  }
 ],
 "metadata": {
  "kernelspec": {
   "display_name": "my-python3-kernel",
   "language": "python",
   "name": "my-python3-kernel"
  },
  "language_info": {
   "codemirror_mode": {
    "name": "ipython",
    "version": 3
   },
   "file_extension": ".py",
   "mimetype": "text/x-python",
   "name": "python",
   "nbconvert_exporter": "python",
   "pygments_lexer": "ipython3",
   "version": "3.12.7"
  }
 },
 "nbformat": 4,
 "nbformat_minor": 5
}
