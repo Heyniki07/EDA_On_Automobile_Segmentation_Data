{
 "cells": [
  {
   "cell_type": "markdown",
   "id": "0fe9aa6f-52c4-4d2f-b003-2e616f318b69",
   "metadata": {},
   "source": [
    "Predictive Modelling"
   ]
  },
  {
   "cell_type": "code",
   "execution_count": 3,
   "id": "3314774c-e191-425f-a66b-3c978296a240",
   "metadata": {},
   "outputs": [],
   "source": [
    "import pandas as pd\n",
    "import numpy as np\n",
    "import seaborn as sns\n",
    "import matplotlib.pyplot as plt\n"
   ]
  },
  {
   "cell_type": "code",
   "execution_count": 4,
   "id": "bc3da5c2-2b33-41d3-9fab-5c2b60df4028",
   "metadata": {},
   "outputs": [
    {
     "data": {
      "text/html": [
       "<div>\n",
       "<style scoped>\n",
       "    .dataframe tbody tr th:only-of-type {\n",
       "        vertical-align: middle;\n",
       "    }\n",
       "\n",
       "    .dataframe tbody tr th {\n",
       "        vertical-align: top;\n",
       "    }\n",
       "\n",
       "    .dataframe thead th {\n",
       "        text-align: right;\n",
       "    }\n",
       "</style>\n",
       "<table border=\"1\" class=\"dataframe\">\n",
       "  <thead>\n",
       "    <tr style=\"text-align: right;\">\n",
       "      <th></th>\n",
       "      <th>Unnamed: 0</th>\n",
       "      <th>ID</th>\n",
       "      <th>Gender</th>\n",
       "      <th>Ever_Married</th>\n",
       "      <th>Age</th>\n",
       "      <th>Graduated</th>\n",
       "      <th>Profession</th>\n",
       "      <th>Work_Experience</th>\n",
       "      <th>Spending_Score</th>\n",
       "      <th>Family_Size</th>\n",
       "      <th>Var_1</th>\n",
       "      <th>Segmentation</th>\n",
       "    </tr>\n",
       "  </thead>\n",
       "  <tbody>\n",
       "    <tr>\n",
       "      <th>0</th>\n",
       "      <td>0</td>\n",
       "      <td>460394</td>\n",
       "      <td>Female</td>\n",
       "      <td>No</td>\n",
       "      <td>32</td>\n",
       "      <td>Yes</td>\n",
       "      <td>Healthcare</td>\n",
       "      <td>9.0</td>\n",
       "      <td>Low</td>\n",
       "      <td>3.0</td>\n",
       "      <td>Cat_6</td>\n",
       "      <td>D</td>\n",
       "    </tr>\n",
       "    <tr>\n",
       "      <th>1</th>\n",
       "      <td>1</td>\n",
       "      <td>461798</td>\n",
       "      <td>Female</td>\n",
       "      <td>No</td>\n",
       "      <td>56</td>\n",
       "      <td>Yes</td>\n",
       "      <td>Artist</td>\n",
       "      <td>0.0</td>\n",
       "      <td>Low</td>\n",
       "      <td>1.0</td>\n",
       "      <td>Cat_6</td>\n",
       "      <td>A</td>\n",
       "    </tr>\n",
       "    <tr>\n",
       "      <th>2</th>\n",
       "      <td>2</td>\n",
       "      <td>464976</td>\n",
       "      <td>Male</td>\n",
       "      <td>Yes</td>\n",
       "      <td>75</td>\n",
       "      <td>No</td>\n",
       "      <td>Lawyer</td>\n",
       "      <td>1.0</td>\n",
       "      <td>Low</td>\n",
       "      <td>1.0</td>\n",
       "      <td>Cat_4</td>\n",
       "      <td>D</td>\n",
       "    </tr>\n",
       "    <tr>\n",
       "      <th>3</th>\n",
       "      <td>3</td>\n",
       "      <td>462104</td>\n",
       "      <td>Male</td>\n",
       "      <td>Yes</td>\n",
       "      <td>39</td>\n",
       "      <td>No</td>\n",
       "      <td>Entertainment</td>\n",
       "      <td>9.0</td>\n",
       "      <td>Low</td>\n",
       "      <td>2.0</td>\n",
       "      <td>Cat_3</td>\n",
       "      <td>D</td>\n",
       "    </tr>\n",
       "    <tr>\n",
       "      <th>4</th>\n",
       "      <td>4</td>\n",
       "      <td>464829</td>\n",
       "      <td>Male</td>\n",
       "      <td>No</td>\n",
       "      <td>22</td>\n",
       "      <td>No</td>\n",
       "      <td>Healthcare</td>\n",
       "      <td>9.0</td>\n",
       "      <td>Low</td>\n",
       "      <td>5.0</td>\n",
       "      <td>Cat_4</td>\n",
       "      <td>D</td>\n",
       "    </tr>\n",
       "  </tbody>\n",
       "</table>\n",
       "</div>"
      ],
      "text/plain": [
       "   Unnamed: 0      ID  Gender Ever_Married  Age Graduated     Profession  \\\n",
       "0           0  460394  Female           No   32       Yes     Healthcare   \n",
       "1           1  461798  Female           No   56       Yes         Artist   \n",
       "2           2  464976    Male          Yes   75        No         Lawyer   \n",
       "3           3  462104    Male          Yes   39        No  Entertainment   \n",
       "4           4  464829    Male           No   22        No     Healthcare   \n",
       "\n",
       "   Work_Experience Spending_Score  Family_Size  Var_1 Segmentation  \n",
       "0              9.0            Low          3.0  Cat_6            D  \n",
       "1              0.0            Low          1.0  Cat_6            A  \n",
       "2              1.0            Low          1.0  Cat_4            D  \n",
       "3              9.0            Low          2.0  Cat_3            D  \n",
       "4              9.0            Low          5.0  Cat_4            D  "
      ]
     },
     "execution_count": 4,
     "metadata": {},
     "output_type": "execute_result"
    }
   ],
   "source": [
    "#Importing neccesary libraries\n",
    "data = pd.read_csv(\"Customer Segmentation.csv\")\n",
    "data.head()"
   ]
  },
  {
   "cell_type": "markdown",
   "id": "960ac42b-891a-4957-ae99-6c97a2ed046b",
   "metadata": {},
   "source": [
    "#Dropping the null values"
   ]
  },
  {
   "cell_type": "code",
   "execution_count": 5,
   "id": "7ad96b54-8ec4-4759-967f-ef48f6f5632e",
   "metadata": {},
   "outputs": [],
   "source": [
    "data.dropna(inplace=True)"
   ]
  },
  {
   "cell_type": "markdown",
   "id": "9324d9d7-6024-4f69-b137-a17d57f28d81",
   "metadata": {},
   "source": [
    "#Dropping uncessary columns"
   ]
  },
  {
   "cell_type": "code",
   "execution_count": 6,
   "id": "dadbc407-64fc-4e14-a32d-ca4897616621",
   "metadata": {},
   "outputs": [],
   "source": [
    "data.drop('Unnamed: 0',axis=1,inplace = True)"
   ]
  },
  {
   "cell_type": "code",
   "execution_count": 7,
   "id": "d44afcb9-36a6-4034-8edb-1d238f79c466",
   "metadata": {},
   "outputs": [],
   "source": [
    "data.drop('ID',axis=1,inplace = True)"
   ]
  },
  {
   "cell_type": "code",
   "execution_count": 8,
   "id": "dc7d377e-20d9-47ed-91e9-781fdf93f065",
   "metadata": {},
   "outputs": [],
   "source": [
    "data.drop('Var_1',axis=1,inplace=True)"
   ]
  },
  {
   "cell_type": "markdown",
   "id": "5bc9873f-644a-4220-b334-d180dd3a9eda",
   "metadata": {},
   "source": [
    "#Predictive Modelling"
   ]
  },
  {
   "cell_type": "code",
   "execution_count": 9,
   "id": "bcde6f3c-316e-47c4-a920-664d13442e9a",
   "metadata": {},
   "outputs": [],
   "source": [
    "#Importing neccesary libraries\n",
    "from sklearn.linear_model import LogisticRegression\n",
    "from sklearn.model_selection import train_test_split\n",
    "from sklearn.preprocessing import LabelEncoder, StandardScaler\n",
    "from sklearn.metrics import classification_report, confusion_matrix, accuracy_score"
   ]
  },
  {
   "cell_type": "code",
   "execution_count": 10,
   "id": "0a8bc2a3-9ea4-4c09-96ab-5bdbcb40bce3",
   "metadata": {},
   "outputs": [],
   "source": [
    "#Encoding the categorical data into numerical format\n",
    "categorical_cols = ['Gender', 'Ever_Married', 'Graduated', 'Profession']\n",
    "data_encoded = pd.get_dummies(data, columns=categorical_cols, drop_first=True)"
   ]
  },
  {
   "cell_type": "code",
   "execution_count": 11,
   "id": "6055f4d0-b932-4193-a471-19bc736636d7",
   "metadata": {},
   "outputs": [
    {
     "name": "stdout",
     "output_type": "stream",
     "text": [
      "Segmentation Encoding: {'A': 0, 'B': 1, 'C': 2, 'D': 3}\n"
     ]
    }
   ],
   "source": [
    "#Encode target variable 'Segmentation'\n",
    "le = LabelEncoder()\n",
    "data_encoded['Segmentation_Label'] = le.fit_transform(data['Segmentation'])\n",
    "\n",
    "# Optional: view label mapping\n",
    "print(\"Segmentation Encoding:\", dict(zip(le.classes_, le.transform(le.classes_))))"
   ]
  },
  {
   "cell_type": "code",
   "execution_count": 12,
   "id": "2512cb00-a806-490e-8c69-01b700891daf",
   "metadata": {},
   "outputs": [],
   "source": [
    "# Define feature columns (exclude non-numeric or already encoded columns)\n",
    "features = [col for col in data_encoded.columns \n",
    "            if col not in ['Segmentation', 'Segmentation_Label', 'Spending_Score', 'Spending_Score_Encoded', 'Age_Group']]\n",
    "\n",
    "X = data_encoded[features]\n",
    "y = data_encoded['Segmentation_Label']\n",
    "\n",
    "# Standardize features\n",
    "scaler = StandardScaler()\n",
    "X_scaled = scaler.fit_transform(X)\n",
    "\n",
    "# Split dataset\n",
    "X_train, X_test, y_train, y_test = train_test_split(X_scaled, y, test_size=0.2, random_state=42)\n"
   ]
  },
  {
   "cell_type": "code",
   "execution_count": 13,
   "id": "13a5830c-a4bc-4c19-9ff7-24ae778ceac2",
   "metadata": {},
   "outputs": [
    {
     "name": "stdout",
     "output_type": "stream",
     "text": [
      "Accuracy:  0.4574829931972789\n",
      "Classification Report:\n",
      "               precision    recall  f1-score   support\n",
      "\n",
      "           A       0.41      0.46      0.43       482\n",
      "           B       0.36      0.12      0.18       398\n",
      "           C       0.41      0.58      0.48       399\n",
      "           D       0.59      0.63      0.61       485\n",
      "\n",
      "    accuracy                           0.46      1764\n",
      "   macro avg       0.44      0.45      0.42      1764\n",
      "weighted avg       0.45      0.46      0.43      1764\n",
      "\n"
     ]
    },
    {
     "name": "stderr",
     "output_type": "stream",
     "text": [
      "C:\\Users\\Nikita\\anaconda3\\Lib\\site-packages\\sklearn\\linear_model\\_logistic.py:1264: FutureWarning: 'multi_class' was deprecated in version 1.5 and will be removed in 1.7. From then on, it will always use 'multinomial'. Leave it to its default value to avoid this warning.\n",
      "  warnings.warn(\n"
     ]
    }
   ],
   "source": [
    "# Train Logistic Regression model\n",
    "model = LogisticRegression(multi_class='multinomial', solver='lbfgs', max_iter=1000)\n",
    "model.fit(X_train, y_train)\n",
    "\n",
    "# Predict\n",
    "y_pred = model.predict(X_test)\n",
    "acc_score = accuracy_score(y_test, y_pred)\n",
    "print(\"Accuracy: \",acc_score)\n",
    "\n",
    "# Evaluation\n",
    "print(\"Classification Report:\\n\", classification_report(y_test, y_pred, target_names=le.classes_))\n"
   ]
  },
  {
   "cell_type": "code",
   "execution_count": 14,
   "id": "04571d69-7a96-4b60-9e18-62188246a5c9",
   "metadata": {},
   "outputs": [
    {
     "data": {
      "image/png": "[encoded data removed]",
      "text/plain": [
       "<Figure size 600x400 with 2 Axes>"
      ]
     },
     "metadata": {},
     "output_type": "display_data"
    }
   ],
   "source": [
    "# Plot Confusion Matrix\n",
    "plt.figure(figsize=(6, 4))\n",
    "sns.heatmap(confusion_matrix(y_test, y_pred), annot=True, fmt='d',\n",
    "            xticklabels=le.classes_, yticklabels=le.classes_, cmap='rocket')\n",
    "plt.title(\"Confusion Matrix - Segmentation Prediction\")\n",
    "plt.xlabel(\"Predicted\")\n",
    "plt.ylabel(\"Actual\")\n",
    "plt.show()\n"
   ]
  },
  {
   "cell_type": "code",
   "execution_count": 15,
   "id": "8ccdf474-a30c-496a-94cc-fba9453635a5",
   "metadata": {},
   "outputs": [
    {
     "name": "stdout",
     "output_type": "stream",
     "text": [
      "Predicted Segmentation Class: A\n"
     ]
    }
   ],
   "source": [
    "# Sample new customer (replace with actual values)\n",
    "new_customer = pd.DataFrame([{\n",
    "    'Age': 35,\n",
    "    'Work_Experience': 10,\n",
    "    'Family_Size': 3,\n",
    "    'Gender_Male': 1,\n",
    "    'Ever_Married_Yes': 1,\n",
    "    'Graduated_Yes': 1,\n",
    "    'Profession_Doctor': 0,\n",
    "    'Profession_Engineer': 1,\n",
    "    'Profession_Healthcare': 0,\n",
    "    'Profession_Homemaker': 0,\n",
    "    'Profession_Lawyer': 0,\n",
    "    'Profession_Marketing': 0\n",
    "}])\n",
    "\n",
    "# Match feature order\n",
    "new_customer = new_customer.reindex(columns=features, fill_value=0)\n",
    "\n",
    "# Scale\n",
    "new_customer_scaled = scaler.transform(new_customer)\n",
    "\n",
    "# Predict\n",
    "predicted_class = model.predict(new_customer_scaled)\n",
    "predicted_label = le.inverse_transform(predicted_class)\n",
    "\n",
    "print(\"Predicted Segmentation Class:\", predicted_label[0])\n"
   ]
  }
 ],
 "metadata": {
  "kernelspec": {
   "display_name": "my-python3-kernel",
   "language": "python",
   "name": "my-python3-kernel"
  },
  "language_info": {
   "codemirror_mode": {
    "name": "ipython",
    "version": 3
   },
   "file_extension": ".py",
   "mimetype": "text/x-python",
   "name": "python",
   "nbconvert_exporter": "python",
   "pygments_lexer": "ipython3",
   "version": "3.12.7"
  }
 },
 "nbformat": 4,
 "nbformat_minor": 5
}
